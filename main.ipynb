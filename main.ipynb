{
 "cells": [
  {
   "cell_type": "code",
   "execution_count": 2,
   "metadata": {},
   "outputs": [
    {
     "name": "stdout",
     "output_type": "stream",
     "text": [
      "<class 'str'>\n"
     ]
    }
   ],
   "source": [
    "x = \" a   b c  \"\n",
    "x = x.strip()\n",
    "print(type(x))"
   ]
  },
  {
   "cell_type": "code",
   "execution_count": 2,
   "metadata": {},
   "outputs": [],
   "source": [
    "import pandas as pd\n",
    "import json\n",
    "import os"
   ]
  },
  {
   "cell_type": "code",
   "execution_count": null,
   "metadata": {},
   "outputs": [
    {
     "ename": "",
     "evalue": "",
     "output_type": "error",
     "traceback": [
      "\u001b[1;31mRunning cells with 'Python 3.10.4 ('resys')' requires ipykernel package.\n",
      "\u001b[1;31mRun the following command to install 'ipykernel' into the Python environment. \n",
      "\u001b[1;31mCommand: 'conda install -n resys ipykernel --update-deps --force-reinstall'"
     ]
    }
   ],
   "source": [
    "file_path = 'reviews_users/reviews_users/'\n",
    "\n",
    "num_of_rate = [0 for i in range(6)]\n",
    "num_of_funny_review = 0\n",
    "num_of_useful_review = 0\n",
    "num_of_cool_review = 0\n",
    "num_of_reviews = 0\n",
    "user_id = set()\n",
    "\n",
    "for city in os.listdir(file_path):\n",
    "    cur_path = file_path + '/' + city + '/extracted_reviews'\n",
    "\n",
    "    num_of_restaurant = 0\n",
    "    for json_file in os.listdir(cur_path):\n",
    "        num_of_restaurant += 1\n",
    "\n",
    "\n",
    "        with open(cur_path + '/' + json_file, 'r') as f:\n",
    "            data = json.load(f)\n",
    "        \n",
    "        review_id = list(data.keys())\n",
    "        num_of_reviews += len(review_id)\n",
    "        \n",
    "        for user in review_id:\n",
    "            \n",
    "            user_rating = data[user]['rating']\n",
    "            num_of_rate[int(user_rating)] += 1\n",
    "            \n",
    "            if(len(data[user]['rated']) == 0):\n",
    "                continue\n",
    "\n",
    "            funny = data[user]['rated']['funny']\n",
    "            useful = data[user]['rated']['useful']\n",
    "            cool = data[user]['rated']['cool']\n",
    "\n",
    "            user_id.add(data[user]['user_id'])\n",
    "\n",
    "            num_of_funny_review += funny\n",
    "            num_of_cool_review += cool\n",
    "            num_of_useful_review += useful\n",
    "\n",
    "    \n",
    "    print(f\"Number of restaurants in {city}: {num_of_restaurant}\")\n",
    "\n",
    "print(len(user_id))\n",
    "\n",
    "\n",
    "print(f\"Total number of funny reviews: {num_of_funny_review}\")\n",
    "print(f\"Total number of useful reviews: {num_of_useful_review}\")\n",
    "print(f\"Total number of cool reviews: {num_of_cool_review}\")\n",
    "print(f\"Total number of reviews: {num_of_reviews}\")\n",
    "\n",
    "for i in range(1, 6):\n",
    "    print(f\"Number of {i}* rating: {num_of_rate[i]}\")\n",
    "\n",
    "\n",
    "\n",
    "\n"
   ]
  },
  {
   "cell_type": "code",
   "execution_count": null,
   "metadata": {},
   "outputs": [
    {
     "ename": "",
     "evalue": "",
     "output_type": "error",
     "traceback": [
      "\u001b[1;31mRunning cells with 'Python 3.10.4 ('resys')' requires ipykernel package.\n",
      "\u001b[1;31mRun the following command to install 'ipykernel' into the Python environment. \n",
      "\u001b[1;31mCommand: 'conda install -n resys ipykernel --update-deps --force-reinstall'"
     ]
    }
   ],
   "source": []
  }
 ],
 "metadata": {
  "kernelspec": {
   "display_name": "base",
   "language": "python",
   "name": "python3"
  },
  "language_info": {
   "codemirror_mode": {
    "name": "ipython",
    "version": 3
   },
   "file_extension": ".py",
   "mimetype": "text/x-python",
   "name": "python",
   "nbconvert_exporter": "python",
   "pygments_lexer": "ipython3",
   "version": "3.9.12"
  },
  "orig_nbformat": 4,
  "vscode": {
   "interpreter": {
    "hash": "8c46ac5aaab4d3c9f2f9be91c3b9b95f2b8ede1f4aae554ca1e34eefcba1468b"
   }
  }
 },
 "nbformat": 4,
 "nbformat_minor": 2
}
